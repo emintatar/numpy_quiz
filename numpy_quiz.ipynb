{
 "cells": [
  {
   "cell_type": "markdown",
   "id": "1bf982ca",
   "metadata": {},
   "source": [
    "### 1) Numpy kütüphanesini ekleyin."
   ]
  },
  {
   "cell_type": "code",
   "execution_count": 5,
   "id": "43b8a6ae",
   "metadata": {},
   "outputs": [],
   "source": [
    "import numpy as np"
   ]
  },
  {
   "cell_type": "markdown",
   "id": "7483d32a",
   "metadata": {},
   "source": [
    "### 2) {[1, 2, 3, 4, 5, 6]} elemanlarından oluşan bir array oluşturun."
   ]
  },
  {
   "cell_type": "code",
   "execution_count": 4,
   "id": "103f2365",
   "metadata": {},
   "outputs": [
    {
     "data": {
      "text/plain": [
       "array([1, 2, 3, 4, 5, 6])"
      ]
     },
     "execution_count": 4,
     "metadata": {},
     "output_type": "execute_result"
    }
   ],
   "source": [
    "np.arange(1, 7)"
   ]
  },
  {
   "cell_type": "markdown",
   "id": "5dd081d4",
   "metadata": {},
   "source": [
    "### 3) İçerisinde 6 tane 1 barındıran bir array oluşturun."
   ]
  },
  {
   "cell_type": "code",
   "execution_count": 6,
   "id": "e80c75c4",
   "metadata": {},
   "outputs": [
    {
     "data": {
      "text/plain": [
       "array([1., 1., 1., 1., 1., 1.])"
      ]
     },
     "execution_count": 6,
     "metadata": {},
     "output_type": "execute_result"
    }
   ],
   "source": [
    "np.ones(6)"
   ]
  },
  {
   "cell_type": "markdown",
   "id": "ff9a3595",
   "metadata": {},
   "source": [
    "### 4) 0'lardan oluşan 3 satır 4 sütunlu bir array oluşturun."
   ]
  },
  {
   "cell_type": "code",
   "execution_count": 8,
   "id": "d7b5ccad",
   "metadata": {},
   "outputs": [
    {
     "data": {
      "text/plain": [
       "array([[0., 0., 0., 0.],\n",
       "       [0., 0., 0., 0.],\n",
       "       [0., 0., 0., 0.]])"
      ]
     },
     "execution_count": 8,
     "metadata": {},
     "output_type": "execute_result"
    }
   ],
   "source": [
    "np.zeros([3, 4])"
   ]
  },
  {
   "cell_type": "markdown",
   "id": "699a7db3",
   "metadata": {},
   "source": [
    "### 5) 8'lerden oluşan 4 satır 5 sütunlu bir array oluşturun."
   ]
  },
  {
   "cell_type": "code",
   "execution_count": 9,
   "id": "9e81b265",
   "metadata": {},
   "outputs": [
    {
     "data": {
      "text/plain": [
       "array([[8, 8, 8, 8, 8],\n",
       "       [8, 8, 8, 8, 8],\n",
       "       [8, 8, 8, 8, 8],\n",
       "       [8, 8, 8, 8, 8]])"
      ]
     },
     "execution_count": 9,
     "metadata": {},
     "output_type": "execute_result"
    }
   ],
   "source": [
    "np.full((4, 5), 8)"
   ]
  },
  {
   "cell_type": "markdown",
   "id": "f31eb535",
   "metadata": {},
   "source": [
    "### 6) 20'den başlayarak 50'ye kadar 3'er atlamalı bir array oluşturun."
   ]
  },
  {
   "cell_type": "code",
   "execution_count": 10,
   "id": "8f0bf659",
   "metadata": {},
   "outputs": [
    {
     "data": {
      "text/plain": [
       "array([20, 23, 26, 29, 32, 35, 38, 41, 44, 47])"
      ]
     },
     "execution_count": 10,
     "metadata": {},
     "output_type": "execute_result"
    }
   ],
   "source": [
    "np.arange(20,50,3)"
   ]
  },
  {
   "cell_type": "markdown",
   "id": "ada066ae",
   "metadata": {},
   "source": [
    "### 7) 2, 9, 7, 1, 4, 6, 3 değerlerinden oluşan tek boyutlu bir array oluşturun."
   ]
  },
  {
   "cell_type": "code",
   "execution_count": 11,
   "id": "055024d9",
   "metadata": {},
   "outputs": [
    {
     "data": {
      "text/plain": [
       "array([2, 9, 7, 1, 4, 6, 3])"
      ]
     },
     "execution_count": 11,
     "metadata": {},
     "output_type": "execute_result"
    }
   ],
   "source": [
    "np.array([2, 9, 7, 1, 4, 6, 3])"
   ]
  },
  {
   "cell_type": "markdown",
   "id": "e7df94b3",
   "metadata": {},
   "source": [
    "### 8) 0 ile 20 arasında aynı uzaklıkta 5 elemanlı bir array oluşturun (linspace)."
   ]
  },
  {
   "cell_type": "code",
   "execution_count": 12,
   "id": "d21281db",
   "metadata": {},
   "outputs": [
    {
     "data": {
      "text/plain": [
       "array([ 0.,  5., 10., 15., 20.])"
      ]
     },
     "execution_count": 12,
     "metadata": {},
     "output_type": "execute_result"
    }
   ],
   "source": [
    "np.linspace(0, 20, 5)"
   ]
  },
  {
   "cell_type": "markdown",
   "id": "3b68ac0b",
   "metadata": {},
   "source": [
    "### 9) Normal dağılımlı 3 satır 4 sütunlu bir array oluşturun (randn)."
   ]
  },
  {
   "cell_type": "code",
   "execution_count": 6,
   "id": "e7daa0ba",
   "metadata": {},
   "outputs": [
    {
     "data": {
      "text/plain": [
       "array([[0.98478898, 0.46297975, 0.55037765, 0.87137365],\n",
       "       [0.10156566, 0.84455752, 0.98959263, 0.24117915],\n",
       "       [0.16849067, 0.48479832, 0.23189641, 0.08344601]])"
      ]
     },
     "execution_count": 6,
     "metadata": {},
     "output_type": "execute_result"
    }
   ],
   "source": [
    "np.random.rand(3, 4)"
   ]
  },
  {
   "cell_type": "markdown",
   "id": "6f790c6a",
   "metadata": {},
   "source": [
    "### 10) 4 elemanlı birim matris oluşturun (eye)."
   ]
  },
  {
   "cell_type": "code",
   "execution_count": 7,
   "id": "f7e5b709",
   "metadata": {},
   "outputs": [
    {
     "data": {
      "text/plain": [
       "array([[1., 0., 0., 0.],\n",
       "       [0., 1., 0., 0.],\n",
       "       [0., 0., 1., 0.],\n",
       "       [0., 0., 0., 1.]])"
      ]
     },
     "execution_count": 7,
     "metadata": {},
     "output_type": "execute_result"
    }
   ],
   "source": [
    "np.eye(4)"
   ]
  },
  {
   "cell_type": "markdown",
   "id": "db5ff2b6",
   "metadata": {},
   "source": [
    "### 11) 0-1 arası 10 adet rastgele sayı oluşturup bu sayıların en büyük ve en küçüğünü bulun."
   ]
  },
  {
   "cell_type": "code",
   "execution_count": 20,
   "id": "9f08c010",
   "metadata": {},
   "outputs": [],
   "source": [
    "a = np.random.rand(10)"
   ]
  },
  {
   "cell_type": "code",
   "execution_count": 21,
   "id": "93ca7747",
   "metadata": {},
   "outputs": [
    {
     "data": {
      "text/plain": [
       "0.8437479888950858"
      ]
     },
     "execution_count": 21,
     "metadata": {},
     "output_type": "execute_result"
    }
   ],
   "source": [
    "max(a)"
   ]
  },
  {
   "cell_type": "code",
   "execution_count": 22,
   "id": "c42669ee",
   "metadata": {},
   "outputs": [
    {
     "data": {
      "text/plain": [
       "0.03362488178705869"
      ]
     },
     "execution_count": 22,
     "metadata": {},
     "output_type": "execute_result"
    }
   ],
   "source": [
    "min(a)"
   ]
  },
  {
   "cell_type": "markdown",
   "id": "2b64c13f",
   "metadata": {},
   "source": [
    "### 12) Rastgele sayılardan oluşan 5 satır 4 sütunlu bir matris oluşturun."
   ]
  },
  {
   "cell_type": "code",
   "execution_count": 33,
   "id": "30753082",
   "metadata": {},
   "outputs": [],
   "source": [
    "a = np.random.randint(1, 10, 20).reshape(5, 4)"
   ]
  },
  {
   "cell_type": "code",
   "execution_count": 34,
   "id": "edd39bec",
   "metadata": {},
   "outputs": [
    {
     "data": {
      "text/plain": [
       "array([[1, 4, 3, 7],\n",
       "       [8, 5, 2, 3],\n",
       "       [7, 8, 4, 7],\n",
       "       [7, 4, 6, 9],\n",
       "       [6, 2, 8, 8]])"
      ]
     },
     "execution_count": 34,
     "metadata": {},
     "output_type": "execute_result"
    }
   ],
   "source": [
    "a"
   ]
  },
  {
   "cell_type": "markdown",
   "id": "06014e0b",
   "metadata": {},
   "source": [
    "### 13) 12. sorudaki matristeki 1. satırdaki tüm değerlere ulaşın."
   ]
  },
  {
   "cell_type": "code",
   "execution_count": 37,
   "id": "f06f84dc",
   "metadata": {},
   "outputs": [
    {
     "data": {
      "text/plain": [
       "array([1, 4, 3, 7])"
      ]
     },
     "execution_count": 37,
     "metadata": {},
     "output_type": "execute_result"
    }
   ],
   "source": [
    "a[0, :]"
   ]
  },
  {
   "cell_type": "markdown",
   "id": "0afc2774",
   "metadata": {},
   "source": [
    "### 14) 12. sorudaki matristeki 2. satır ve 3. sütundaki elemana ulaşın."
   ]
  },
  {
   "cell_type": "code",
   "execution_count": 39,
   "id": "0a6435a0",
   "metadata": {},
   "outputs": [
    {
     "data": {
      "text/plain": [
       "2"
      ]
     },
     "execution_count": 39,
     "metadata": {},
     "output_type": "execute_result"
    }
   ],
   "source": [
    "a[1, 2]"
   ]
  },
  {
   "cell_type": "markdown",
   "id": "9b5e018f",
   "metadata": {},
   "source": [
    "### 15) 12. sorudaki matristeki 3. sütundaki tüm elemanlara ulaşın."
   ]
  },
  {
   "cell_type": "code",
   "execution_count": 40,
   "id": "e93461c9",
   "metadata": {},
   "outputs": [
    {
     "data": {
      "text/plain": [
       "array([3, 2, 4, 6, 8])"
      ]
     },
     "execution_count": 40,
     "metadata": {},
     "output_type": "execute_result"
    }
   ],
   "source": [
    "a[:, 2]"
   ]
  },
  {
   "cell_type": "markdown",
   "id": "80d78284",
   "metadata": {},
   "source": [
    "### 16) For döngüsü ile 2 satır ve 3 sütündan oluşan matris elemanlarını alt alta yazdırınız."
   ]
  },
  {
   "cell_type": "code",
   "execution_count": 44,
   "id": "d587b669",
   "metadata": {},
   "outputs": [],
   "source": [
    "x = np.arange(1, 7).reshape(2, 3)"
   ]
  },
  {
   "cell_type": "code",
   "execution_count": 46,
   "id": "9ee47566",
   "metadata": {},
   "outputs": [
    {
     "name": "stdout",
     "output_type": "stream",
     "text": [
      "1\n",
      "2\n",
      "3\n",
      "4\n",
      "5\n",
      "6\n"
     ]
    }
   ],
   "source": [
    "for i in x.flat:\n",
    "    print(i)"
   ]
  },
  {
   "cell_type": "markdown",
   "id": "d9c46d46",
   "metadata": {},
   "source": [
    "### 17) 0-1 arası rastgele 6 sayı oluşturup 5 ile çarpın."
   ]
  },
  {
   "cell_type": "code",
   "execution_count": 50,
   "id": "e432d007",
   "metadata": {},
   "outputs": [],
   "source": [
    "y = np.random.rand(6)"
   ]
  },
  {
   "cell_type": "code",
   "execution_count": 51,
   "id": "e1df28ec",
   "metadata": {},
   "outputs": [
    {
     "data": {
      "text/plain": [
       "array([3.45565299, 2.77956752, 4.50200473, 4.8747526 , 3.41874955,\n",
       "       5.15913261])"
      ]
     },
     "execution_count": 51,
     "metadata": {},
     "output_type": "execute_result"
    }
   ],
   "source": [
    "y * 6"
   ]
  },
  {
   "cell_type": "markdown",
   "id": "269c690e",
   "metadata": {},
   "source": [
    "### 18) 17. sorudaki arrayin sayıları toplamını bulunuz."
   ]
  },
  {
   "cell_type": "code",
   "execution_count": 52,
   "id": "50ec44ec",
   "metadata": {},
   "outputs": [
    {
     "data": {
      "text/plain": [
       "4.031643331427545"
      ]
     },
     "execution_count": 52,
     "metadata": {},
     "output_type": "execute_result"
    }
   ],
   "source": [
    "sum(y)"
   ]
  },
  {
   "cell_type": "markdown",
   "id": "9277a79b",
   "metadata": {},
   "source": [
    "### 19) 17. sorudaki arrayin medyanını bulunuz."
   ]
  },
  {
   "cell_type": "code",
   "execution_count": 53,
   "id": "cbb75972",
   "metadata": {},
   "outputs": [
    {
     "data": {
      "text/plain": [
       "0.6631381435946544"
      ]
     },
     "execution_count": 53,
     "metadata": {},
     "output_type": "execute_result"
    }
   ],
   "source": [
    "np.median(y)"
   ]
  },
  {
   "cell_type": "markdown",
   "id": "409a2374",
   "metadata": {},
   "source": [
    "### 20) 17. sorudaki arrayin standart sapmasını bulunuz."
   ]
  },
  {
   "cell_type": "code",
   "execution_count": 54,
   "id": "d2a41690",
   "metadata": {},
   "outputs": [
    {
     "data": {
      "text/plain": [
       "0.1439907830178648"
      ]
     },
     "execution_count": 54,
     "metadata": {},
     "output_type": "execute_result"
    }
   ],
   "source": [
    "np.std(y)"
   ]
  }
 ],
 "metadata": {
  "kernelspec": {
   "display_name": "Python 3 (ipykernel)",
   "language": "python",
   "name": "python3"
  },
  "language_info": {
   "codemirror_mode": {
    "name": "ipython",
    "version": 3
   },
   "file_extension": ".py",
   "mimetype": "text/x-python",
   "name": "python",
   "nbconvert_exporter": "python",
   "pygments_lexer": "ipython3",
   "version": "3.11.4"
  }
 },
 "nbformat": 4,
 "nbformat_minor": 5
}
